{
 "cells": [
  {
   "cell_type": "markdown",
   "metadata": {
    "colab": {
     "base_uri": "https://localhost:8080/"
    },
    "id": "onNNAShAdN1z",
    "outputId": "d0bd0104-d0d2-427d-9448-f00df9af79a3"
   },
   "source": [
    "from google.colab import drive\n",
    "drive.mount('/content/drive',force_remount=True)"
   ]
  },
  {
   "cell_type": "markdown",
   "metadata": {
    "colab": {
     "base_uri": "https://localhost:8080/"
    },
    "id": "aDKdyRatdCEJ",
    "outputId": "5a2b2909-6d4c-4a4e-b2c6-f23cb158c23c"
   },
   "source": [
    "%cd drive/My\\ Drive/SIC\\ -\\ BigData/8.\\ Project/"
   ]
  },
  {
   "cell_type": "code",
   "execution_count": 3,
   "metadata": {
    "colab": {
     "base_uri": "https://localhost:8080/"
    },
    "id": "fCSZglOfOYyg",
    "outputId": "14ed1ea1-e867-455d-9a25-d5ef270a5cea"
   },
   "outputs": [
    {
     "name": "stdout",
     "output_type": "stream",
     "text": [
      " Volume in drive C is Windows-SSD\n",
      " Volume Serial Number is CCDD-B7EF\n",
      "\n",
      " Directory of C:\\Users\\datn4\\Real-Time-News-Sentiment-Prediction\\Machine Learning\n",
      "\n",
      "19/07/2024  10:48 CH    <DIR>          .\n",
      "19/07/2024  10:45 CH    <DIR>          ..\n",
      "19/07/2024  10:48 CH    <DIR>          .ipynb_checkpoints\n",
      "19/07/2024  10:19 CH           219.728 Bert_News_sentiment_analysis.ipynb\n",
      "19/07/2024  10:44 CH    <DIR>          dataset\n",
      "19/07/2024  10:44 CH            11.558 LICENSE\n",
      "19/07/2024  10:44 CH             4.976 README.md\n",
      "19/07/2024  10:44 CH           315.435 RndFr_News_sentiment_analysis_new.ipynb\n",
      "19/07/2024  10:44 CH         2.246.104 submission3.csv\n",
      "19/07/2024  10:45 CH    <DIR>          trained_model\n",
      "               5 File(s)      2.797.801 bytes\n",
      "               5 Dir(s)  96.417.271.808 bytes free\n"
     ]
    }
   ],
   "source": [
    "%ls"
   ]
  },
  {
   "cell_type": "markdown",
   "metadata": {},
   "source": [
    "## Import packages"
   ]
  },
  {
   "cell_type": "code",
   "execution_count": 5,
   "metadata": {},
   "outputs": [],
   "source": [
    "# %pip install -U pandas\n",
    "# !pip install numpy\n",
    "# !pip show accelerate\n",
    "# !pip show datasets\n",
    "# %pip install transformers\n",
    "# %pip install -U accelerate\n",
    "# %pip install -U datasets\n",
    "# !pip install torch\n",
    "# !pip install --upgrade pyarrow\n",
    "# %pip install scikit-learn\n",
    "# %pip install tensorboardX\n",
    "# %pip install seaborn \n",
    "# %pip install spacy\n",
    "# %pip install xgboost \n",
    "# %pip install beautifulsoup4\n",
    "# %pip install lxml"
   ]
  },
  {
   "cell_type": "code",
   "execution_count": 6,
   "metadata": {
    "id": "AlzZ2oJRug0e"
   },
   "outputs": [
    {
     "name": "stderr",
     "output_type": "stream",
     "text": [
      "C:\\Users\\datn4\\anaconda3\\envs\\pytorch_env\\Lib\\site-packages\\tqdm\\auto.py:21: TqdmWarning: IProgress not found. Please update jupyter and ipywidgets. See https://ipywidgets.readthedocs.io/en/stable/user_install.html\n",
      "  from .autonotebook import tqdm as notebook_tqdm\n"
     ]
    }
   ],
   "source": [
    "import pandas as pd\n",
    "import numpy as np\n",
    "import re\n",
    "import string\n",
    "import glob\n",
    "import sys, os\n",
    "os.environ['TOKENIZERS_PARALLELISM']='false'\n",
    "import torch\n",
    "from sklearn.model_selection import train_test_split\n",
    "from datasets import DatasetDict, Dataset\n",
    "from transformers import AutoTokenizer, AutoModelForSeq2SeqLM, TrainingArguments, Trainer, AutoModel, AutoModelForSequenceClassification,BertForSequenceClassification\n",
    "import sklearn\n",
    "from sklearn.metrics import accuracy_score, recall_score, precision_score, f1_score\n",
    "from sklearn.metrics import mean_squared_error, mean_absolute_error, r2_score\n",
    "from bs4 import BeautifulSoup"
   ]
  },
  {
   "cell_type": "code",
   "execution_count": 7,
   "metadata": {},
   "outputs": [],
   "source": [
    "import pandas as pd\n",
    "import numpy as np\n",
    "import seaborn as sns\n",
    "import spacy\n",
    "from xgboost import XGBRegressor\n",
    "import xgboost as xgb\n",
    "from sklearn.pipeline import Pipeline\n",
    "import seaborn as sns\n",
    "from sklearn.multioutput import MultiOutputRegressor\n",
    "from sklearn.ensemble import RandomForestRegressor\n",
    "from spacy.lang.en import English\n",
    "from spacy.lang.en.stop_words import STOP_WORDS\n",
    "stop_words = STOP_WORDS\n",
    "from sklearn.base import TransformerMixin\n",
    "from sklearn.feature_extraction.text import TfidfVectorizer\n",
    "import string\n",
    "punctuations = string.punctuation"
   ]
  },
  {
   "cell_type": "code",
   "execution_count": 8,
   "metadata": {},
   "outputs": [],
   "source": [
    "import matplotlib.pyplot as plt\n",
    "import seaborn as sns\n",
    "from scipy import stats"
   ]
  },
  {
   "cell_type": "markdown",
   "metadata": {},
   "source": [
    "## Prepare DataSet"
   ]
  },
  {
   "cell_type": "code",
   "execution_count": 10,
   "metadata": {
    "id": "gXN4jSqLug6-"
   },
   "outputs": [
    {
     "name": "stdout",
     "output_type": "stream",
     "text": [
      "<class 'pandas.core.frame.DataFrame'>\n",
      "RangeIndex: 55932 entries, 0 to 55931\n",
      "Data columns (total 11 columns):\n",
      " #   Column             Non-Null Count  Dtype  \n",
      "---  ------             --------------  -----  \n",
      " 0   IDLink             55932 non-null  object \n",
      " 1   Title              55932 non-null  object \n",
      " 2   Headline           55932 non-null  object \n",
      " 3   Source             55932 non-null  object \n",
      " 4   Topic              55932 non-null  object \n",
      " 5   PublishDate        55932 non-null  object \n",
      " 6   Facebook           55932 non-null  object \n",
      " 7   GooglePlus         55932 non-null  object \n",
      " 8   LinkedIn           55932 non-null  object \n",
      " 9   SentimentTitle     55932 non-null  float64\n",
      " 10  SentimentHeadline  55932 non-null  float64\n",
      "dtypes: float64(2), object(9)\n",
      "memory usage: 4.7+ MB\n",
      "<class 'pandas.core.frame.DataFrame'>\n",
      "RangeIndex: 37288 entries, 0 to 37287\n",
      "Data columns (total 9 columns):\n",
      " #   Column       Non-Null Count  Dtype \n",
      "---  ------       --------------  ----- \n",
      " 0   IDLink       37288 non-null  object\n",
      " 1   Title        37288 non-null  object\n",
      " 2   Headline     37288 non-null  object\n",
      " 3   Source       37288 non-null  object\n",
      " 4   Topic        37288 non-null  object\n",
      " 5   PublishDate  37288 non-null  object\n",
      " 6   Facebook     37288 non-null  object\n",
      " 7   GooglePlus   37288 non-null  object\n",
      " 8   LinkedIn     37288 non-null  object\n",
      "dtypes: object(9)\n",
      "memory usage: 2.6+ MB\n"
     ]
    }
   ],
   "source": [
    "#Import dataset\n",
    "train = pd.read_csv('dataset/train_file.csv')\n",
    "train = train.astype(str)\n",
    "train['SentimentTitle'] = train['SentimentTitle'].astype(float)\n",
    "train['SentimentHeadline'] = train['SentimentHeadline'].astype(float)\n",
    "\n",
    "test = pd.read_csv('dataset/test_file.csv')\n",
    "test = test.astype(str)\n",
    "\n",
    "train.info()\n",
    "test.info()"
   ]
  },
  {
   "cell_type": "code",
   "execution_count": 11,
   "metadata": {
    "colab": {
     "base_uri": "https://localhost:8080/",
     "height": 678
    },
    "id": "MJ9EAYeDINZ2",
    "outputId": "3c0072d3-aae9-43bf-b067-12711dd1f5f5"
   },
   "outputs": [
    {
     "data": {
      "text/html": [
       "<div>\n",
       "<style scoped>\n",
       "    .dataframe tbody tr th:only-of-type {\n",
       "        vertical-align: middle;\n",
       "    }\n",
       "\n",
       "    .dataframe tbody tr th {\n",
       "        vertical-align: top;\n",
       "    }\n",
       "\n",
       "    .dataframe thead th {\n",
       "        text-align: right;\n",
       "    }\n",
       "</style>\n",
       "<table border=\"1\" class=\"dataframe\">\n",
       "  <thead>\n",
       "    <tr style=\"text-align: right;\">\n",
       "      <th></th>\n",
       "      <th>IDLink</th>\n",
       "      <th>Title</th>\n",
       "      <th>Headline</th>\n",
       "      <th>Source</th>\n",
       "      <th>Topic</th>\n",
       "      <th>PublishDate</th>\n",
       "      <th>Facebook</th>\n",
       "      <th>GooglePlus</th>\n",
       "      <th>LinkedIn</th>\n",
       "      <th>SentimentTitle</th>\n",
       "      <th>SentimentHeadline</th>\n",
       "    </tr>\n",
       "  </thead>\n",
       "  <tbody>\n",
       "    <tr>\n",
       "      <th>0</th>\n",
       "      <td>Tr3CMgRv1N</td>\n",
       "      <td>Obama Lays Wreath at Arlington National Cemetery</td>\n",
       "      <td>Obama Lays Wreath at Arlington National Cemete...</td>\n",
       "      <td>USA TODAY</td>\n",
       "      <td>obama</td>\n",
       "      <td>2002-04-02 00:00:00</td>\n",
       "      <td>-1</td>\n",
       "      <td>-1</td>\n",
       "      <td>-1</td>\n",
       "      <td>0.000000</td>\n",
       "      <td>-0.053300</td>\n",
       "    </tr>\n",
       "    <tr>\n",
       "      <th>1</th>\n",
       "      <td>Wc81vGp8qZ</td>\n",
       "      <td>A Look at the Health of the Chinese Economy</td>\n",
       "      <td>Tim Haywood, investment director business-unit...</td>\n",
       "      <td>Bloomberg</td>\n",
       "      <td>economy</td>\n",
       "      <td>2008-09-20 00:00:00</td>\n",
       "      <td>-1</td>\n",
       "      <td>-1</td>\n",
       "      <td>-1</td>\n",
       "      <td>0.208333</td>\n",
       "      <td>-0.156386</td>\n",
       "    </tr>\n",
       "    <tr>\n",
       "      <th>2</th>\n",
       "      <td>zNGH03CrZH</td>\n",
       "      <td>Nouriel Roubini: Global Economy Not Back to 2008</td>\n",
       "      <td>Nouriel Roubini, NYU professor and chairman at...</td>\n",
       "      <td>Bloomberg</td>\n",
       "      <td>economy</td>\n",
       "      <td>2012-01-28 00:00:00</td>\n",
       "      <td>-1</td>\n",
       "      <td>-1</td>\n",
       "      <td>-1</td>\n",
       "      <td>-0.425210</td>\n",
       "      <td>0.139754</td>\n",
       "    </tr>\n",
       "    <tr>\n",
       "      <th>3</th>\n",
       "      <td>3sM1H0W8ts</td>\n",
       "      <td>Finland GDP Expands In Q4</td>\n",
       "      <td>Finland's economy expanded marginally in the t...</td>\n",
       "      <td>RTT News</td>\n",
       "      <td>economy</td>\n",
       "      <td>2015-03-01 00:06:00</td>\n",
       "      <td>-1</td>\n",
       "      <td>-1</td>\n",
       "      <td>-1</td>\n",
       "      <td>0.000000</td>\n",
       "      <td>0.026064</td>\n",
       "    </tr>\n",
       "    <tr>\n",
       "      <th>4</th>\n",
       "      <td>wUbnxgvqaZ</td>\n",
       "      <td>Tourism, govt spending buoys Thai economy in J...</td>\n",
       "      <td>Tourism and public spending continued to boost...</td>\n",
       "      <td>The Nation - Thailand&amp;#39;s English news</td>\n",
       "      <td>economy</td>\n",
       "      <td>2015-03-01 00:11:00</td>\n",
       "      <td>-1</td>\n",
       "      <td>-1</td>\n",
       "      <td>-1</td>\n",
       "      <td>0.000000</td>\n",
       "      <td>0.141084</td>\n",
       "    </tr>\n",
       "  </tbody>\n",
       "</table>\n",
       "</div>"
      ],
      "text/plain": [
       "       IDLink                                              Title  \\\n",
       "0  Tr3CMgRv1N   Obama Lays Wreath at Arlington National Cemetery   \n",
       "1  Wc81vGp8qZ        A Look at the Health of the Chinese Economy   \n",
       "2  zNGH03CrZH   Nouriel Roubini: Global Economy Not Back to 2008   \n",
       "3  3sM1H0W8ts                          Finland GDP Expands In Q4   \n",
       "4  wUbnxgvqaZ  Tourism, govt spending buoys Thai economy in J...   \n",
       "\n",
       "                                            Headline  \\\n",
       "0  Obama Lays Wreath at Arlington National Cemete...   \n",
       "1  Tim Haywood, investment director business-unit...   \n",
       "2  Nouriel Roubini, NYU professor and chairman at...   \n",
       "3  Finland's economy expanded marginally in the t...   \n",
       "4  Tourism and public spending continued to boost...   \n",
       "\n",
       "                                     Source    Topic          PublishDate  \\\n",
       "0                                 USA TODAY    obama  2002-04-02 00:00:00   \n",
       "1                                 Bloomberg  economy  2008-09-20 00:00:00   \n",
       "2                                 Bloomberg  economy  2012-01-28 00:00:00   \n",
       "3                                  RTT News  economy  2015-03-01 00:06:00   \n",
       "4  The Nation - Thailand&#39;s English news  economy  2015-03-01 00:11:00   \n",
       "\n",
       "  Facebook GooglePlus LinkedIn  SentimentTitle  SentimentHeadline  \n",
       "0       -1         -1       -1        0.000000          -0.053300  \n",
       "1       -1         -1       -1        0.208333          -0.156386  \n",
       "2       -1         -1       -1       -0.425210           0.139754  \n",
       "3       -1         -1       -1        0.000000           0.026064  \n",
       "4       -1         -1       -1        0.000000           0.141084  "
      ]
     },
     "execution_count": 11,
     "metadata": {},
     "output_type": "execute_result"
    }
   ],
   "source": [
    "train.head()"
   ]
  },
  {
   "cell_type": "markdown",
   "metadata": {},
   "source": [
    "## Data visualization"
   ]
  },
  {
   "cell_type": "markdown",
   "metadata": {},
   "source": [
    "**Joint Plot**"
   ]
  },
  {
   "cell_type": "code",
   "execution_count": 14,
   "metadata": {},
   "outputs": [
    {
     "data": {
      "image/png": "[encoded data removed]",
      "text/plain": [
       "<Figure size 600x600 with 3 Axes>"
      ]
     },
     "metadata": {},
     "output_type": "display_data"
    }
   ],
   "source": [
    "# Set theme\n",
    "sns.set_theme(style='darkgrid', palette='Set1')\n",
    "\n",
    "# Create the jointplot\n",
    "g = sns.jointplot(x='SentimentTitle', y='SentimentHeadline', data=train, kind='reg')\n",
    "\n",
    "# Calculate Pearson correlation\n",
    "r, p = stats.pearsonr(train['SentimentTitle'], train['SentimentHeadline'])\n",
    "\n",
    "# Annotate the plot\n",
    "g.ax_joint.annotate(f'r = {r:.2f}, p = {p:.3f}', xy=(0.1, 0.9), xycoords='axes fraction')\n",
    "\n",
    "# Show the plot\n",
    "plt.show()"
   ]
  },
  {
   "cell_type": "markdown",
   "metadata": {},
   "source": [
    "**Heat map**"
   ]
  },
  {
   "cell_type": "code",
   "execution_count": 16,
   "metadata": {},
   "outputs": [
    {
     "data": {
      "image/png": "[encoded data removed]",
      "text/plain": [
       "<Figure size 1500x1500 with 2 Axes>"
      ]
     },
     "metadata": {},
     "output_type": "display_data"
    }
   ],
   "source": [
    "# Set the figure size\n",
    "plt.figure(figsize=(15, 15))\n",
    "\n",
    "# Create the heatmap\n",
    "corr_matrix = train[['Facebook', 'GooglePlus', 'LinkedIn', 'SentimentTitle', 'SentimentHeadline']].corr()\n",
    "sns.heatmap(corr_matrix, square=True, cmap='RdYlGn', linewidths=0.5, linecolor='w', annot=True)\n",
    "\n",
    "# Set the title\n",
    "plt.title('Correlation Matrix')\n",
    "\n",
    "# Show the plot\n",
    "plt.show()\n"
   ]
  },
  {
   "cell_type": "markdown",
   "metadata": {},
   "source": [
    "## Preprocessing DataSet"
   ]
  },
  {
   "cell_type": "markdown",
   "metadata": {},
   "source": [
    "#### A: Clean 'text' columns\n",
    "- python -m spacy download en_core_web_sm"
   ]
  },
  {
   "cell_type": "markdown",
   "metadata": {},
   "source": [
    "**Creating our tokenizer function - lemmatized, lowercased; remove \"-PRON\"s, stop_words, punctuations**"
   ]
  },
  {
   "cell_type": "code",
   "execution_count": 20,
   "metadata": {},
   "outputs": [],
   "source": [
    "nlp = English()\n",
    "nlp = spacy.load('en_core_web_sm')\n",
    "def clean_text(sentence):\n",
    "    sentence = BeautifulSoup(\"<html>\"+sentence+\"</html>\", \"lxml\").get_text()\n",
    "    # Creating our token object, which is used to create documents with linguistic annotations.\n",
    "    mytokens = nlp(sentence)\n",
    "    # here the token is converted into lowercase if it is a Pronoun and if it is not a Pronoun then it is lemmatized (từ gốc dạng hiện tại) and lowercased\n",
    "    mytokens = [ word.lemma_.lower().strip() if word.lemma_ != \"-PRON-\" else word.lower_ for word in mytokens ]\n",
    "    # Removing stop words using stopword from spacy library and punctuations from string library\n",
    "    # stop_words này bao gồm cả các \"-PRON-\"\n",
    "    mytokens = [ word for word in mytokens if word not in stop_words and word not in punctuations ]\n",
    "    # return preprocessed list of tokens\n",
    "    return ' '.join(mytokens).strip().lower()\n"
   ]
  },
  {
   "cell_type": "code",
   "execution_count": 21,
   "metadata": {},
   "outputs": [
    {
     "name": "stdout",
     "output_type": "stream",
     "text": [
      "obama lays wreath arlington national cemetery\n"
     ]
    }
   ],
   "source": [
    "print(clean_text('&quot;Obama Lays Wreath at Arlington National Cemetery'))"
   ]
  },
  {
   "cell_type": "markdown",
   "metadata": {},
   "source": [
    "**Train_val_test_title dataset**"
   ]
  },
  {
   "cell_type": "code",
   "execution_count": 23,
   "metadata": {},
   "outputs": [],
   "source": [
    "train_title = train[['Title', 'SentimentTitle']]\n",
    "train_title = train_title.rename(columns={'Title': 'text', 'SentimentTitle': 'label'})\n",
    "train_title_dataset = Dataset.from_pandas(train_title)\n",
    "train_val_title = train_title_dataset.train_test_split(test_size=0.1)\n",
    "test_title_dataset = Dataset.from_pandas(test[['Title']].rename(columns={'Title': 'text'}))\n",
    "\n",
    "title_dataset = DatasetDict({\n",
    "    'train' : train_val_title['train'],\n",
    "    'eval' : train_val_title['test'],\n",
    "    'test' : test_title_dataset,\n",
    "})"
   ]
  },
  {
   "cell_type": "markdown",
   "metadata": {},
   "source": [
    "**Train_val_test_headline dataset**"
   ]
  },
  {
   "cell_type": "code",
   "execution_count": 25,
   "metadata": {},
   "outputs": [],
   "source": [
    "train_headline = train[['Headline', 'SentimentHeadline']]\n",
    "train_headline = train_headline.rename(columns={'Headline': 'text', 'SentimentHeadline': 'label'})\n",
    "train_headline_dataset = Dataset.from_pandas(train_headline)\n",
    "train_val_headline = train_headline_dataset.train_test_split(test_size=0.1)\n",
    "test_headline_dataset = Dataset.from_pandas(test[['Headline']].rename(columns={'Headline': 'text'}))\n",
    "\n",
    "headline_dataset = DatasetDict({\n",
    "    'train' : train_val_headline['train'],\n",
    "    'eval' : train_val_headline['test'],\n",
    "    'test' : test_headline_dataset,\n",
    "})"
   ]
  },
  {
   "cell_type": "markdown",
   "metadata": {},
   "source": [
    "**Clean_text**"
   ]
  },
  {
   "cell_type": "code",
   "execution_count": 27,
   "metadata": {
    "scrolled": true
   },
   "outputs": [],
   "source": [
    "def preprocess_function(examples):\n",
    "    examples['text'] = [clean_text(text) for text in examples['text']]\n",
    "    return examples"
   ]
  },
  {
   "cell_type": "markdown",
   "metadata": {},
   "source": [
    "**Áp dụng hàm `preprocess_function` cho các phần của DatasetDict**"
   ]
  },
  {
   "cell_type": "code",
   "execution_count": 29,
   "metadata": {},
   "outputs": [
    {
     "name": "stderr",
     "output_type": "stream",
     "text": [
      "Map: 100%|██████████| 50338/50338 [03:59<00:00, 209.75 examples/s]\n",
      "Map: 100%|██████████| 5594/5594 [00:25<00:00, 218.79 examples/s]\n",
      "Map: 100%|██████████| 37288/37288 [02:51<00:00, 217.03 examples/s]\n"
     ]
    }
   ],
   "source": [
    "title_dataset = title_dataset.map(preprocess_function, batched=True)"
   ]
  },
  {
   "cell_type": "markdown",
   "metadata": {},
   "source": [
    "**Áp dụng hàm `preprocess_function` cho các phần của DatasetDict**"
   ]
  },
  {
   "cell_type": "code",
   "execution_count": 31,
   "metadata": {},
   "outputs": [
    {
     "name": "stderr",
     "output_type": "stream",
     "text": [
      "Map: 100%|██████████| 50338/50338 [05:25<00:00, 154.72 examples/s]\n",
      "Map: 100%|██████████| 5594/5594 [00:35<00:00, 156.69 examples/s]\n",
      "Map: 100%|██████████| 37288/37288 [03:57<00:00, 156.69 examples/s]\n"
     ]
    }
   ],
   "source": [
    "headline_dataset = headline_dataset.map(preprocess_function, batched=True)"
   ]
  },
  {
   "cell_type": "markdown",
   "metadata": {},
   "source": [
    "### B: Check datasets shape"
   ]
  },
  {
   "cell_type": "markdown",
   "metadata": {},
   "source": [
    "**Titles shape**"
   ]
  },
  {
   "cell_type": "code",
   "execution_count": 34,
   "metadata": {
    "id": "QHGLX-h3xj-v"
   },
   "outputs": [
    {
     "name": "stdout",
     "output_type": "stream",
     "text": [
      "Training title data shape: (50338, 2)\n",
      "Eval title data shape: (5594, 2)\n",
      "Test title data shape: (37288, 1)\n"
     ]
    }
   ],
   "source": [
    "print('Training title data shape:', title_dataset['train'].shape)\n",
    "print('Eval title data shape:', title_dataset['eval'].shape)\n",
    "print('Test title data shape:', title_dataset['test'].shape)"
   ]
  },
  {
   "cell_type": "markdown",
   "metadata": {},
   "source": [
    "**Headlines shape**"
   ]
  },
  {
   "cell_type": "code",
   "execution_count": 36,
   "metadata": {
    "id": "QHGLX-h3xj-v"
   },
   "outputs": [
    {
     "name": "stdout",
     "output_type": "stream",
     "text": [
      "Training headline data shape: (50338, 2)\n",
      "Eval headline data shape: (5594, 2)\n",
      "Test headline data shape: (37288, 1)\n"
     ]
    }
   ],
   "source": [
    "print('Training headline data shape:', headline_dataset['train'].shape)\n",
    "print('Eval headline data shape:', headline_dataset['eval'].shape)\n",
    "print('Test headline data shape:', headline_dataset['test'].shape)"
   ]
  },
  {
   "cell_type": "markdown",
   "metadata": {},
   "source": [
    "### C: Tokenized"
   ]
  },
  {
   "cell_type": "code",
   "execution_count": 38,
   "metadata": {},
   "outputs": [],
   "source": [
    "tokenizer = AutoTokenizer.from_pretrained(\"bert-base-uncased\")\n",
    "def tokenize(batch):\n",
    "    return tokenizer( batch['text'],truncation=True)"
   ]
  },
  {
   "cell_type": "markdown",
   "metadata": {},
   "source": [
    "**Tokenized Title**"
   ]
  },
  {
   "cell_type": "code",
   "execution_count": 40,
   "metadata": {
    "id": "doJ4QH4pw9I-"
   },
   "outputs": [
    {
     "name": "stderr",
     "output_type": "stream",
     "text": [
      "Map: 100%|██████████| 50338/50338 [00:02<00:00, 20363.35 examples/s]\n",
      "Map: 100%|██████████| 5594/5594 [00:00<00:00, 25662.72 examples/s]\n",
      "Map: 100%|██████████| 37288/37288 [00:01<00:00, 23100.99 examples/s]"
     ]
    },
    {
     "name": "stdout",
     "output_type": "stream",
     "text": [
      "Train_title_dataset:\n",
      "{'text': Value(dtype='string', id=None), 'label': Value(dtype='float64', id=None), 'input_ids': Sequence(feature=Value(dtype='int32', id=None), length=-1, id=None), 'token_type_ids': Sequence(feature=Value(dtype='int8', id=None), length=-1, id=None), 'attention_mask': Sequence(feature=Value(dtype='int8', id=None), length=-1, id=None)}\n",
      "Dataset({\n",
      "    features: ['text', 'label', 'input_ids', 'token_type_ids', 'attention_mask'],\n",
      "    num_rows: 50338\n",
      "})\n",
      "Eval_title_dataset:\n",
      "{'text': Value(dtype='string', id=None), 'label': Value(dtype='float64', id=None), 'input_ids': Sequence(feature=Value(dtype='int32', id=None), length=-1, id=None), 'token_type_ids': Sequence(feature=Value(dtype='int8', id=None), length=-1, id=None), 'attention_mask': Sequence(feature=Value(dtype='int8', id=None), length=-1, id=None)}\n",
      "Dataset({\n",
      "    features: ['text', 'label', 'input_ids', 'token_type_ids', 'attention_mask'],\n",
      "    num_rows: 5594\n",
      "})\n",
      "Train_title_dataset:\n",
      "{'text': Value(dtype='string', id=None), 'input_ids': Sequence(feature=Value(dtype='int32', id=None), length=-1, id=None), 'token_type_ids': Sequence(feature=Value(dtype='int8', id=None), length=-1, id=None), 'attention_mask': Sequence(feature=Value(dtype='int8', id=None), length=-1, id=None)}\n",
      "Dataset({\n",
      "    features: ['text', 'input_ids', 'token_type_ids', 'attention_mask'],\n",
      "    num_rows: 37288\n",
      "})\n"
     ]
    },
    {
     "name": "stderr",
     "output_type": "stream",
     "text": [
      "\n"
     ]
    }
   ],
   "source": [
    "encoded_title_dataset = title_dataset.map(tokenize,batched=True,batch_size=None)\n",
    "\n",
    "print('Train_title_dataset:')\n",
    "print(encoded_title_dataset['train'].features)\n",
    "print(encoded_title_dataset['train'])\n",
    "print('Eval_title_dataset:')\n",
    "print(encoded_title_dataset['eval'].features)\n",
    "print(encoded_title_dataset['eval'])\n",
    "print('Train_title_dataset:')\n",
    "print(encoded_title_dataset['test'].features)\n",
    "print(encoded_title_dataset['test'])"
   ]
  },
  {
   "cell_type": "markdown",
   "metadata": {},
   "source": [
    "**Tokenized Headline**"
   ]
  },
  {
   "cell_type": "code",
   "execution_count": 42,
   "metadata": {
    "id": "doJ4QH4pw9I-"
   },
   "outputs": [
    {
     "name": "stderr",
     "output_type": "stream",
     "text": [
      "Map: 100%|██████████| 50338/50338 [00:04<00:00, 12568.17 examples/s]\n",
      "Map: 100%|██████████| 5594/5594 [00:00<00:00, 15995.72 examples/s]\n",
      "Map: 100%|██████████| 37288/37288 [00:02<00:00, 13245.35 examples/s]"
     ]
    },
    {
     "name": "stdout",
     "output_type": "stream",
     "text": [
      "Train_headline_dataset:\n",
      "{'text': Value(dtype='string', id=None), 'label': Value(dtype='float64', id=None), 'input_ids': Sequence(feature=Value(dtype='int32', id=None), length=-1, id=None), 'token_type_ids': Sequence(feature=Value(dtype='int8', id=None), length=-1, id=None), 'attention_mask': Sequence(feature=Value(dtype='int8', id=None), length=-1, id=None)}\n",
      "Dataset({\n",
      "    features: ['text', 'label', 'input_ids', 'token_type_ids', 'attention_mask'],\n",
      "    num_rows: 50338\n",
      "})\n",
      "Eval_headline_dataset:\n",
      "{'text': Value(dtype='string', id=None), 'label': Value(dtype='float64', id=None), 'input_ids': Sequence(feature=Value(dtype='int32', id=None), length=-1, id=None), 'token_type_ids': Sequence(feature=Value(dtype='int8', id=None), length=-1, id=None), 'attention_mask': Sequence(feature=Value(dtype='int8', id=None), length=-1, id=None)}\n",
      "Dataset({\n",
      "    features: ['text', 'label', 'input_ids', 'token_type_ids', 'attention_mask'],\n",
      "    num_rows: 5594\n",
      "})\n",
      "Test_headline_dataset:\n",
      "{'text': Value(dtype='string', id=None), 'input_ids': Sequence(feature=Value(dtype='int32', id=None), length=-1, id=None), 'token_type_ids': Sequence(feature=Value(dtype='int8', id=None), length=-1, id=None), 'attention_mask': Sequence(feature=Value(dtype='int8', id=None), length=-1, id=None)}\n",
      "Dataset({\n",
      "    features: ['text', 'input_ids', 'token_type_ids', 'attention_mask'],\n",
      "    num_rows: 37288\n",
      "})\n"
     ]
    },
    {
     "name": "stderr",
     "output_type": "stream",
     "text": [
      "\n"
     ]
    }
   ],
   "source": [
    "encoded_headline_dataset = headline_dataset.map(tokenize,batched=True,batch_size=None)\n",
    "\n",
    "print('Train_headline_dataset:')\n",
    "print(encoded_headline_dataset['train'].features)\n",
    "print(encoded_headline_dataset['train'])\n",
    "print('Eval_headline_dataset:')\n",
    "print(encoded_headline_dataset['eval'].features)\n",
    "print(encoded_headline_dataset['eval'])\n",
    "print('Test_headline_dataset:')\n",
    "print(encoded_headline_dataset['test'].features)\n",
    "print(encoded_headline_dataset['test'])"
   ]
  },
  {
   "cell_type": "markdown",
   "metadata": {
    "id": "7X6cjsivwiz2"
   },
   "source": [
    "## T5-base Model"
   ]
  },
  {
   "cell_type": "code",
   "execution_count": 44,
   "metadata": {},
   "outputs": [
    {
     "name": "stdout",
     "output_type": "stream",
     "text": [
      "Using device: cuda\n"
     ]
    }
   ],
   "source": [
    "device = torch.device('cuda' if torch.cuda.is_available() else 'cpu')\n",
    "print(f'Using device: {device}')"
   ]
  },
  {
   "cell_type": "code",
   "execution_count": 45,
   "metadata": {
    "colab": {
     "base_uri": "https://localhost:8080/"
    },
    "id": "0LZR42q8wmwa",
    "outputId": "d3f780d2-8714-4f2b-a3ea-fd8cf422f320"
   },
   "outputs": [
    {
     "name": "stderr",
     "output_type": "stream",
     "text": [
      "Some weights of BertForSequenceClassification were not initialized from the model checkpoint at bert-base-uncased and are newly initialized: ['classifier.bias', 'classifier.weight']\n",
      "You should probably TRAIN this model on a down-stream task to be able to use it for predictions and inference.\n"
     ]
    }
   ],
   "source": [
    "model = BertForSequenceClassification.from_pretrained(\"bert-base-uncased\",num_labels=1).to(device)"
   ]
  },
  {
   "cell_type": "markdown",
   "metadata": {},
   "source": [
    "**Define Trainer parameters**"
   ]
  },
  {
   "cell_type": "code",
   "execution_count": 47,
   "metadata": {},
   "outputs": [],
   "source": [
    "def compute_metrics(eval_pred):\n",
    "    logits, labels = eval_pred\n",
    "    labels = labels.reshape(-1, 1)\n",
    "    mse = mean_squared_error(labels, logits)\n",
    "    rmse = mean_squared_error(labels, logits, squared=False)\n",
    "    mae = mean_absolute_error(labels, logits)\n",
    "    return {\"mse\": mse, \"rmse\": rmse, \"mae\": mae}\n",
    "\n",
    "\n",
    "training_args = TrainingArguments(output_dir='./results',\n",
    "                                  num_train_epochs=3,\n",
    "                                  auto_find_batch_size=True,\n",
    "                                  weight_decay=0.01,\n",
    "                                  learning_rate=2e-5,\n",
    "                                  metric_for_best_model='mae',\n",
    "                                  greater_is_better=False,\n",
    "                                  group_by_length=True,\n",
    "                                  eval_strategy='epoch')\n",
    "\n",
    "\n",
    "def split_dataset(dataset, split_ratio=0.1):\n",
    "    split = dataset.train_test_split(test_size=split_ratio)\n",
    "    return split['test']\n",
    "    "
   ]
  },
  {
   "cell_type": "markdown",
   "metadata": {},
   "source": [
    "### Title Model Trainer"
   ]
  },
  {
   "cell_type": "code",
   "execution_count": 49,
   "metadata": {
    "id": "SknJWif_xtIW"
   },
   "outputs": [],
   "source": [
    "trainer_title = Trainer(\n",
    "    model=model,\n",
    "    args=training_args,\n",
    "    # train_dataset= split_dataset(encoded_title_dataset['train'], split_ratio=0.1),\n",
    "    # eval_dataset= split_dataset(encoded_title_dataset['eval'], split_ratio=0.1),\n",
    "    train_dataset=encoded_title_dataset['train'],\n",
    "    eval_dataset=encoded_title_dataset['eval'],\n",
    "    compute_metrics=compute_metrics,\n",
    "    tokenizer=tokenizer,\n",
    ")\n"
   ]
  },
  {
   "cell_type": "code",
   "execution_count": 50,
   "metadata": {
    "colab": {
     "base_uri": "https://localhost:8080/",
     "height": 75
    },
    "id": "Kua-doipbtWF",
    "outputId": "81269d82-8845-45ff-c981-503a2c371a11"
   },
   "outputs": [
    {
     "name": "stderr",
     "output_type": "stream",
     "text": [
      "C:\\Users\\datn4\\anaconda3\\envs\\pytorch_env\\Lib\\site-packages\\transformers\\models\\bert\\modeling_bert.py:439: UserWarning: 1Torch was not compiled with flash attention. (Triggered internally at C:\\cb\\pytorch_1000000000000\\work\\aten\\src\\ATen\\native\\transformers\\cuda\\sdp_utils.cpp:455.)\n",
      "  attn_output = torch.nn.functional.scaled_dot_product_attention(\n"
     ]
    },
    {
     "data": {
      "text/html": [
       "\n",
       "    <div>\n",
       "      \n",
       "      <progress value='18879' max='18879' style='width:300px; height:20px; vertical-align: middle;'></progress>\n",
       "      [18879/18879 29:09, Epoch 3/3]\n",
       "    </div>\n",
       "    <table border=\"1\" class=\"dataframe\">\n",
       "  <thead>\n",
       " <tr style=\"text-align: left;\">\n",
       "      <th>Epoch</th>\n",
       "      <th>Training Loss</th>\n",
       "      <th>Validation Loss</th>\n",
       "      <th>Mse</th>\n",
       "      <th>Rmse</th>\n",
       "      <th>Mae</th>\n",
       "    </tr>\n",
       "  </thead>\n",
       "  <tbody>\n",
       "    <tr>\n",
       "      <td>1</td>\n",
       "      <td>0.012700</td>\n",
       "      <td>0.014586</td>\n",
       "      <td>0.014586</td>\n",
       "      <td>0.120772</td>\n",
       "      <td>0.091216</td>\n",
       "    </tr>\n",
       "    <tr>\n",
       "      <td>2</td>\n",
       "      <td>0.008800</td>\n",
       "      <td>0.011015</td>\n",
       "      <td>0.011015</td>\n",
       "      <td>0.104950</td>\n",
       "      <td>0.074338</td>\n",
       "    </tr>\n",
       "    <tr>\n",
       "      <td>3</td>\n",
       "      <td>0.006300</td>\n",
       "      <td>0.009799</td>\n",
       "      <td>0.009799</td>\n",
       "      <td>0.098990</td>\n",
       "      <td>0.068925</td>\n",
       "    </tr>\n",
       "  </tbody>\n",
       "</table><p>"
      ],
      "text/plain": [
       "<IPython.core.display.HTML object>"
      ]
     },
     "metadata": {},
     "output_type": "display_data"
    },
    {
     "name": "stderr",
     "output_type": "stream",
     "text": [
      "C:\\Users\\datn4\\anaconda3\\envs\\pytorch_env\\Lib\\site-packages\\sklearn\\metrics\\_regression.py:492: FutureWarning: 'squared' is deprecated in version 1.4 and will be removed in 1.6. To calculate the root mean squared error, use the function'root_mean_squared_error'.\n",
      "  warnings.warn(\n",
      "C:\\Users\\datn4\\anaconda3\\envs\\pytorch_env\\Lib\\site-packages\\sklearn\\metrics\\_regression.py:492: FutureWarning: 'squared' is deprecated in version 1.4 and will be removed in 1.6. To calculate the root mean squared error, use the function'root_mean_squared_error'.\n",
      "  warnings.warn(\n",
      "C:\\Users\\datn4\\anaconda3\\envs\\pytorch_env\\Lib\\site-packages\\sklearn\\metrics\\_regression.py:492: FutureWarning: 'squared' is deprecated in version 1.4 and will be removed in 1.6. To calculate the root mean squared error, use the function'root_mean_squared_error'.\n",
      "  warnings.warn(\n"
     ]
    },
    {
     "data": {
      "text/plain": [
       "TrainOutput(global_step=18879, training_loss=0.010419881977174448, metrics={'train_runtime': 1750.0551, 'train_samples_per_second': 86.291, 'train_steps_per_second': 10.788, 'total_flos': 798327274027656.0, 'train_loss': 0.010419881977174448, 'epoch': 3.0})"
      ]
     },
     "execution_count": 50,
     "metadata": {},
     "output_type": "execute_result"
    }
   ],
   "source": [
    "trainer_title.train()"
   ]
  },
  {
   "cell_type": "code",
   "execution_count": 51,
   "metadata": {},
   "outputs": [
    {
     "data": {
      "text/html": [],
      "text/plain": [
       "<IPython.core.display.HTML object>"
      ]
     },
     "metadata": {},
     "output_type": "display_data"
    },
    {
     "name": "stderr",
     "output_type": "stream",
     "text": [
      "C:\\Users\\datn4\\anaconda3\\envs\\pytorch_env\\Lib\\site-packages\\sklearn\\metrics\\_regression.py:492: FutureWarning: 'squared' is deprecated in version 1.4 and will be removed in 1.6. To calculate the root mean squared error, use the function'root_mean_squared_error'.\n",
      "  warnings.warn(\n"
     ]
    },
    {
     "data": {
      "text/plain": [
       "{'eval_loss': 0.009798926301300526,\n",
       " 'eval_mse': 0.009798926301300526,\n",
       " 'eval_rmse': 0.09898952394723892,\n",
       " 'eval_mae': 0.06892481446266174,\n",
       " 'eval_runtime': 8.0483,\n",
       " 'eval_samples_per_second': 695.053,\n",
       " 'eval_steps_per_second': 86.975,\n",
       " 'epoch': 3.0}"
      ]
     },
     "execution_count": 51,
     "metadata": {},
     "output_type": "execute_result"
    }
   ],
   "source": [
    "trainer_title.evaluate()"
   ]
  },
  {
   "cell_type": "code",
   "execution_count": 52,
   "metadata": {},
   "outputs": [
    {
     "name": "stderr",
     "output_type": "stream",
     "text": [
      "Map: 100%|██████████| 2/2 [00:00<00:00, 45.43 examples/s]\n",
      "Map: 100%|██████████| 2/2 [00:00<00:00, 125.24 examples/s]\n"
     ]
    }
   ],
   "source": [
    "data_tit = {\n",
    "    'text': ['Sliding Economy: FG fights back with N3trn TSA funds', \n",
    "             'Ghana: Who Killing Ghana Economy'\n",
    "            ],}\n",
    "\n",
    "\n",
    "# Đoạn mã đúng:\n",
    "df_tit = pd.DataFrame(data_tit)  # Chuyển dict thành DataFrame\n",
    "\n",
    "dataset_sample_tit = Dataset.from_pandas(df_tit)\n",
    "dataset_sample_tit = dataset_sample_tit.map(preprocess_function, batched=True)\n",
    "dataset_sample_tit = dataset_sample_tit.map(tokenize, batched=True, batch_size=None)"
   ]
  },
  {
   "cell_type": "code",
   "execution_count": 53,
   "metadata": {},
   "outputs": [
    {
     "data": {
      "text/plain": [
       "PredictionOutput(predictions=array([[-0.05939968],\n",
       "       [-0.00034446]], dtype=float32), label_ids=None, metrics={'test_runtime': 0.0197, 'test_samples_per_second': 101.307, 'test_steps_per_second': 50.653})"
      ]
     },
     "execution_count": 53,
     "metadata": {},
     "output_type": "execute_result"
    }
   ],
   "source": [
    "trainer_title.predict(dataset_sample_tit)"
   ]
  },
  {
   "cell_type": "markdown",
   "metadata": {},
   "source": [
    "### Headline Model Trainer"
   ]
  },
  {
   "cell_type": "code",
   "execution_count": 55,
   "metadata": {
    "id": "QHGLX-h3xj-v"
   },
   "outputs": [],
   "source": [
    "trainer_headline = Trainer(\n",
    "    model=model,\n",
    "    args=training_args,\n",
    "    # train_dataset= split_dataset(encoded_title_dataset['train'], split_ratio=0.1),\n",
    "    # eval_dataset= split_dataset(encoded_title_dataset['eval'], split_ratio=0.1),\n",
    "    train_dataset=encoded_headline_dataset['train'],\n",
    "    eval_dataset=encoded_headline_dataset['eval'],\n",
    "    compute_metrics=compute_metrics,\n",
    "    tokenizer=tokenizer,\n",
    ")\n"
   ]
  },
  {
   "cell_type": "code",
   "execution_count": 56,
   "metadata": {
    "colab": {
     "base_uri": "https://localhost:8080/",
     "height": 75
    },
    "id": "Kua-doipbtWF",
    "outputId": "81269d82-8845-45ff-c981-503a2c371a11"
   },
   "outputs": [
    {
     "data": {
      "text/html": [
       "\n",
       "    <div>\n",
       "      \n",
       "      <progress value='18879' max='18879' style='width:300px; height:20px; vertical-align: middle;'></progress>\n",
       "      [18879/18879 31:47, Epoch 3/3]\n",
       "    </div>\n",
       "    <table border=\"1\" class=\"dataframe\">\n",
       "  <thead>\n",
       " <tr style=\"text-align: left;\">\n",
       "      <th>Epoch</th>\n",
       "      <th>Training Loss</th>\n",
       "      <th>Validation Loss</th>\n",
       "      <th>Mse</th>\n",
       "      <th>Rmse</th>\n",
       "      <th>Mae</th>\n",
       "    </tr>\n",
       "  </thead>\n",
       "  <tbody>\n",
       "    <tr>\n",
       "      <td>1</td>\n",
       "      <td>0.013000</td>\n",
       "      <td>0.011787</td>\n",
       "      <td>0.011787</td>\n",
       "      <td>0.108569</td>\n",
       "      <td>0.082188</td>\n",
       "    </tr>\n",
       "    <tr>\n",
       "      <td>2</td>\n",
       "      <td>0.008500</td>\n",
       "      <td>0.010964</td>\n",
       "      <td>0.010964</td>\n",
       "      <td>0.104709</td>\n",
       "      <td>0.078606</td>\n",
       "    </tr>\n",
       "    <tr>\n",
       "      <td>3</td>\n",
       "      <td>0.005400</td>\n",
       "      <td>0.011345</td>\n",
       "      <td>0.011345</td>\n",
       "      <td>0.106515</td>\n",
       "      <td>0.079323</td>\n",
       "    </tr>\n",
       "  </tbody>\n",
       "</table><p>"
      ],
      "text/plain": [
       "<IPython.core.display.HTML object>"
      ]
     },
     "metadata": {},
     "output_type": "display_data"
    },
    {
     "name": "stderr",
     "output_type": "stream",
     "text": [
      "C:\\Users\\datn4\\anaconda3\\envs\\pytorch_env\\Lib\\site-packages\\sklearn\\metrics\\_regression.py:492: FutureWarning: 'squared' is deprecated in version 1.4 and will be removed in 1.6. To calculate the root mean squared error, use the function'root_mean_squared_error'.\n",
      "  warnings.warn(\n",
      "C:\\Users\\datn4\\anaconda3\\envs\\pytorch_env\\Lib\\site-packages\\sklearn\\metrics\\_regression.py:492: FutureWarning: 'squared' is deprecated in version 1.4 and will be removed in 1.6. To calculate the root mean squared error, use the function'root_mean_squared_error'.\n",
      "  warnings.warn(\n",
      "C:\\Users\\datn4\\anaconda3\\envs\\pytorch_env\\Lib\\site-packages\\sklearn\\metrics\\_regression.py:492: FutureWarning: 'squared' is deprecated in version 1.4 and will be removed in 1.6. To calculate the root mean squared error, use the function'root_mean_squared_error'.\n",
      "  warnings.warn(\n"
     ]
    },
    {
     "data": {
      "text/plain": [
       "TrainOutput(global_step=18879, training_loss=0.009488182670516074, metrics={'train_runtime': 1908.2104, 'train_samples_per_second': 79.139, 'train_steps_per_second': 9.894, 'total_flos': 1586112728273988.0, 'train_loss': 0.009488182670516074, 'epoch': 3.0})"
      ]
     },
     "execution_count": 56,
     "metadata": {},
     "output_type": "execute_result"
    }
   ],
   "source": [
    "trainer_headline.train()"
   ]
  },
  {
   "cell_type": "code",
   "execution_count": 57,
   "metadata": {
    "scrolled": true
   },
   "outputs": [
    {
     "data": {
      "text/html": [],
      "text/plain": [
       "<IPython.core.display.HTML object>"
      ]
     },
     "metadata": {},
     "output_type": "display_data"
    },
    {
     "name": "stderr",
     "output_type": "stream",
     "text": [
      "C:\\Users\\datn4\\anaconda3\\envs\\pytorch_env\\Lib\\site-packages\\sklearn\\metrics\\_regression.py:492: FutureWarning: 'squared' is deprecated in version 1.4 and will be removed in 1.6. To calculate the root mean squared error, use the function'root_mean_squared_error'.\n",
      "  warnings.warn(\n"
     ]
    },
    {
     "data": {
      "text/plain": [
       "{'eval_loss': 0.0113453920930624,\n",
       " 'eval_mse': 0.0113453920930624,\n",
       " 'eval_rmse': 0.10651475191116333,\n",
       " 'eval_mae': 0.0793234184384346,\n",
       " 'eval_runtime': 12.9652,\n",
       " 'eval_samples_per_second': 431.462,\n",
       " 'eval_steps_per_second': 53.991,\n",
       " 'epoch': 3.0}"
      ]
     },
     "execution_count": 57,
     "metadata": {},
     "output_type": "execute_result"
    }
   ],
   "source": [
    "trainer_headline.evaluate()"
   ]
  },
  {
   "cell_type": "code",
   "execution_count": 58,
   "metadata": {},
   "outputs": [
    {
     "name": "stderr",
     "output_type": "stream",
     "text": [
      "Map: 100%|██████████| 2/2 [00:00<00:00, 15.39 examples/s]\n",
      "Map: 100%|██████████| 2/2 [00:00<00:00, 66.67 examples/s]\n"
     ]
    }
   ],
   "source": [
    "data_head = {\n",
    "    'text': ['With the 2016 budget now passed by the National Assembly and a N3trillion war chest, the government of President Muhammadu Buhari says'\n",
    "             ,'The Ghanaian middle class has raised an eyebrow concerning the huge sums of monies that government spends on projects, which at the long'\n",
    "            ],}\n",
    "\n",
    "\n",
    "# Đoạn mã đúng:\n",
    "df_head = pd.DataFrame(data_head)  # Chuyển dict thành DataFrame\n",
    "\n",
    "dataset_sample_head = Dataset.from_pandas(df_head)\n",
    "dataset_sample_head = dataset_sample_head.map(preprocess_function, batched=True)\n",
    "dataset_sample_head = dataset_sample_head.map(tokenize, batched=True, batch_size=None)"
   ]
  },
  {
   "cell_type": "code",
   "execution_count": 59,
   "metadata": {},
   "outputs": [
    {
     "data": {
      "text/plain": [
       "PredictionOutput(predictions=array([[-0.06236442],\n",
       "       [ 0.03808755]], dtype=float32), label_ids=None, metrics={'test_runtime': 0.0248, 'test_samples_per_second': 80.561, 'test_steps_per_second': 40.281})"
      ]
     },
     "execution_count": 59,
     "metadata": {},
     "output_type": "execute_result"
    }
   ],
   "source": [
    "trainer_headline.predict(dataset_sample_head)"
   ]
  },
  {
   "cell_type": "markdown",
   "metadata": {},
   "source": [
    "## Save Model"
   ]
  },
  {
   "cell_type": "code",
   "execution_count": 61,
   "metadata": {},
   "outputs": [],
   "source": [
    "version='not_set'"
   ]
  },
  {
   "cell_type": "markdown",
   "metadata": {},
   "source": [
    "**Save title model**"
   ]
  },
  {
   "cell_type": "code",
   "execution_count": 63,
   "metadata": {},
   "outputs": [],
   "source": [
    "trainer_title.save_model(output_dir='./trained_model/Bert_title_v'+str(version))"
   ]
  },
  {
   "cell_type": "markdown",
   "metadata": {},
   "source": [
    "**Save headline model**"
   ]
  },
  {
   "cell_type": "code",
   "execution_count": 65,
   "metadata": {},
   "outputs": [],
   "source": [
    "trainer_title.save_model(output_dir='./trained_model/Bert_headline_v'+str(version))"
   ]
  },
  {
   "cell_type": "markdown",
   "metadata": {},
   "source": [
    "## Load Pretrained Model"
   ]
  },
  {
   "cell_type": "code",
   "execution_count": 137,
   "metadata": {},
   "outputs": [
    {
     "name": "stdout",
     "output_type": "stream",
     "text": [
      "Using device: cuda\n"
     ]
    }
   ],
   "source": [
    "device = torch.device('cuda' if torch.cuda.is_available() else 'cpu')\n",
    "print(f'Using device: {device}')"
   ]
  },
  {
   "cell_type": "code",
   "execution_count": 67,
   "metadata": {},
   "outputs": [],
   "source": [
    "model_version = 1"
   ]
  },
  {
   "cell_type": "code",
   "execution_count": 68,
   "metadata": {},
   "outputs": [],
   "source": [
    "nlp = English()\n",
    "nlp = spacy.load('en_core_web_sm')\n",
    "def clean_text(sentence):\n",
    "    sentence = BeautifulSoup(\"<html>\"+sentence+\"</html>\", \"lxml\").get_text()\n",
    "    # Creating our token object, which is used to create documents with linguistic annotations.\n",
    "    mytokens = nlp(sentence)\n",
    "    # here the token is converted into lowercase if it is a Pronoun and if it is not a Pronoun then it is lemmatized (từ gốc dạng hiện tại) and lowercased\n",
    "    mytokens = [ word.lemma_.lower().strip() if word.lemma_ != \"-PRON-\" else word.lower_ for word in mytokens ]\n",
    "    # Removing stop words using stopword from spacy library and punctuations from string library\n",
    "    # stop_words này bao gồm cả các \"-PRON-\"\n",
    "    mytokens = [ word for word in mytokens if word not in stop_words and word not in punctuations ]\n",
    "    # return preprocessed list of tokens\n",
    "    return ' '.join(mytokens).strip().lower()\n"
   ]
  },
  {
   "cell_type": "code",
   "execution_count": 69,
   "metadata": {},
   "outputs": [],
   "source": [
    "tokenizer = AutoTokenizer.from_pretrained(\"bert-base-uncased\")\n",
    "def tokenize(batch):\n",
    "    return tokenizer( batch['text'],truncation=True)"
   ]
  },
  {
   "cell_type": "code",
   "execution_count": 70,
   "metadata": {
    "scrolled": true
   },
   "outputs": [],
   "source": [
    "def preprocess_function(examples):\n",
    "    examples['text'] = [clean_text(text) for text in examples['text']]\n",
    "    return examples"
   ]
  },
  {
   "cell_type": "code",
   "execution_count": 71,
   "metadata": {},
   "outputs": [],
   "source": [
    "def compute_metrics(eval_pred):\n",
    "    logits, labels = eval_pred\n",
    "    labels = labels.reshape(-1, 1)\n",
    "    mse = mean_squared_error(labels, logits)\n",
    "    rmse = mean_squared_error(labels, logits, squared=False)\n",
    "    mae = mean_absolute_error(labels, logits)\n",
    "    return {\"mse\": mse, \"rmse\": rmse, \"mae\": mae}\n",
    "\n",
    "\n",
    "training_args = TrainingArguments(output_dir='./trash',\n",
    "                                  auto_find_batch_size=True,\n",
    "                                  weight_decay=0.01,\n",
    "                                  metric_for_best_model='mae',\n",
    "                                 )"
   ]
  },
  {
   "cell_type": "markdown",
   "metadata": {},
   "source": [
    "**Load Title Model**"
   ]
  },
  {
   "cell_type": "code",
   "execution_count": 139,
   "metadata": {},
   "outputs": [],
   "source": [
    "title_pretrained_model = BertForSequenceClassification.from_pretrained('./trained_model/Bert_title_v'+str(model_version),num_labels=1).to(device)"
   ]
  },
  {
   "cell_type": "markdown",
   "metadata": {},
   "source": [
    "**Load Headline Model**"
   ]
  },
  {
   "cell_type": "code",
   "execution_count": 141,
   "metadata": {},
   "outputs": [],
   "source": [
    "headline_pretrained_model = BertForSequenceClassification.from_pretrained('./trained_model/Bert_headline_v'+str(model_version),num_labels=1).to(device)"
   ]
  },
  {
   "cell_type": "markdown",
   "metadata": {},
   "source": [
    "**Load trainer**"
   ]
  },
  {
   "cell_type": "code",
   "execution_count": 77,
   "metadata": {},
   "outputs": [],
   "source": [
    "pred_title = Trainer(\n",
    "    model=title_pretrained_model,\n",
    "    args=training_args,\n",
    "    compute_metrics=compute_metrics,\n",
    "    tokenizer=tokenizer,\n",
    ")\n",
    "\n",
    "pred_headline = Trainer(\n",
    "    model=title_pretrained_model,\n",
    "    args=training_args,\n",
    "    compute_metrics=compute_metrics,\n",
    "    tokenizer=tokenizer,\n",
    ")"
   ]
  },
  {
   "cell_type": "markdown",
   "metadata": {},
   "source": [
    "## Predict"
   ]
  },
  {
   "cell_type": "markdown",
   "metadata": {},
   "source": [
    "**Title Predic**"
   ]
  },
  {
   "cell_type": "code",
   "execution_count": 80,
   "metadata": {},
   "outputs": [
    {
     "name": "stderr",
     "output_type": "stream",
     "text": [
      "Map: 100%|██████████| 2/2 [00:00<00:00, 204.67 examples/s]\n",
      "Map: 100%|██████████| 2/2 [00:00<?, ? examples/s]\n"
     ]
    }
   ],
   "source": [
    "pred_tit = {\n",
    "    'text': ['Sliding Economy: FG fights back with N3trn TSA funds', \n",
    "             'Ghana: Who Killing Ghana Economy'\n",
    "            ],}\n",
    "df_pred_tit = pd.DataFrame(pred_tit)  # Chuyển dict thành DataFrame\n",
    "\n",
    "dataset_pred_tit = Dataset.from_pandas(df_pred_tit)\n",
    "dataset_pred_tit = dataset_pred_tit.map(preprocess_function, batched=True)\n",
    "dataset_pred_tit = dataset_pred_tit.map(tokenize, batched=True, batch_size=None)"
   ]
  },
  {
   "cell_type": "code",
   "execution_count": 81,
   "metadata": {},
   "outputs": [],
   "source": [
    "# print('Test_headline_dataset:')\n",
    "# print(dataset_sample_tit.features)\n",
    "# print(dataset_sample_tit)"
   ]
  },
  {
   "cell_type": "code",
   "execution_count": 82,
   "metadata": {},
   "outputs": [
    {
     "data": {
      "text/html": [],
      "text/plain": [
       "<IPython.core.display.HTML object>"
      ]
     },
     "metadata": {},
     "output_type": "display_data"
    },
    {
     "data": {
      "text/plain": [
       "PredictionOutput(predictions=array([[-0.10238799],\n",
       "       [-0.05268085]], dtype=float32), label_ids=None, metrics={'test_runtime': 0.0168, 'test_samples_per_second': 119.095, 'test_steps_per_second': 59.548})"
      ]
     },
     "execution_count": 82,
     "metadata": {},
     "output_type": "execute_result"
    }
   ],
   "source": [
    "pred_title.predict(dataset_pred_tit)"
   ]
  },
  {
   "cell_type": "markdown",
   "metadata": {},
   "source": [
    "**Headline Predic**"
   ]
  },
  {
   "cell_type": "code",
   "execution_count": 84,
   "metadata": {},
   "outputs": [
    {
     "name": "stderr",
     "output_type": "stream",
     "text": [
      "Map: 100%|██████████| 2/2 [00:00<00:00, 99.67 examples/s]\n",
      "Map: 100%|██████████| 2/2 [00:00<00:00, 201.32 examples/s]\n"
     ]
    }
   ],
   "source": [
    "data_head = {\n",
    "    'text': ['With the 2016 budget now passed by the National Assembly and a N3trillion war chest, the government of President Muhammadu Buhari says'\n",
    "             ,'The Ghanaian middle class has raised an eyebrow concerning the huge sums of monies that government spends on projects, which at the long'\n",
    "            ],}\n",
    "df_head = pd.DataFrame(data_head)  # Chuyển dict thành DataFrame\n",
    "dataset_sample_head = Dataset.from_pandas(df_head)\n",
    "dataset_sample_head = dataset_sample_head.map(preprocess_function, batched=True)\n",
    "dataset_sample_head = dataset_sample_head.map(tokenize, batched=True, batch_size=None)"
   ]
  },
  {
   "cell_type": "code",
   "execution_count": 85,
   "metadata": {},
   "outputs": [
    {
     "data": {
      "text/html": [],
      "text/plain": [
       "<IPython.core.display.HTML object>"
      ]
     },
     "metadata": {},
     "output_type": "display_data"
    },
    {
     "data": {
      "text/plain": [
       "PredictionOutput(predictions=array([[-0.14502665],\n",
       "       [-0.0277496 ]], dtype=float32), label_ids=None, metrics={'test_runtime': 0.018, 'test_samples_per_second': 111.006, 'test_steps_per_second': 55.503})"
      ]
     },
     "execution_count": 85,
     "metadata": {},
     "output_type": "execute_result"
    }
   ],
   "source": [
    "pred_headline.predict(dataset_sample_head)"
   ]
  },
  {
   "cell_type": "code",
   "execution_count": null,
   "metadata": {},
   "outputs": [],
   "source": []
  }
 ],
 "metadata": {
  "accelerator": "GPU",
  "colab": {
   "gpuType": "T4",
   "provenance": []
  },
  "kernelspec": {
   "display_name": "pytorch_env",
   "language": "python",
   "name": "pytorch_env"
  },
  "language_info": {
   "codemirror_mode": {
    "name": "ipython",
    "version": 3
   },
   "file_extension": ".py",
   "mimetype": "text/x-python",
   "name": "python",
   "nbconvert_exporter": "python",
   "pygments_lexer": "ipython3",
   "version": "3.12.4"
  }
 },
 "nbformat": 4,
 "nbformat_minor": 4
}
